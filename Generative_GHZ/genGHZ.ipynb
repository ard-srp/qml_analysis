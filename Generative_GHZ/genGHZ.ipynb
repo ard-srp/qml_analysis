{
 "metadata": {
  "language_info": {
   "codemirror_mode": {
    "name": "ipython",
    "version": 3
   },
   "file_extension": ".py",
   "mimetype": "text/x-python",
   "name": "python",
   "nbconvert_exporter": "python",
   "pygments_lexer": "ipython3",
   "version": "3.7.6-final"
  },
  "orig_nbformat": 2,
  "kernelspec": {
   "name": "python_defaultSpec_1597325161193",
   "display_name": "Python 3.7.6 64-bit ('base': conda)"
  }
 },
 "nbformat": 4,
 "nbformat_minor": 2,
 "cells": [
  {
   "cell_type": "code",
   "execution_count": 17,
   "metadata": {},
   "outputs": [],
   "source": [
    "import cirq\n",
    "from scipy.stats import entropy\n",
    "import pyswarms as ps"
   ]
  },
  {
   "cell_type": "code",
   "execution_count": 21,
   "metadata": {},
   "outputs": [],
   "source": [
    "def forward_prop(params):\n",
    "    q = cirq.GridQubit.rect(1,4)\n",
    "    cir = cirq.Circuit()\n",
    "    cir += cirq.ms(params[0]).on(q[0],q[1])\n",
    "    cir += cirq.ms(params[1]).on(q[1],q[2])\n",
    "    cir += cirq.ms(params[2]).on(q[2],q[3])\n",
    "    cir += cirq.ms(params[3]).on(q[0],q[2])\n",
    "    cir += cirq.ms(params[4]).on(q[1],q[3])\n",
    "    cir += cirq.ms(params[5]).on(q[0],q[3])\n",
    "    st = cirq.final_wavefunction(cir)\n",
    "    st = np.abs(st)**2\n",
    "    qx = np.array([0.5,1e-8,1e-8,1e-8,1e-8,1e-8,1e-8,1e-8,1e-8,1e-8,1e-8,1e-8,1e-8,1e-8,1e-8,0.5], dtype = 'float64')\n",
    "    loss = entropy(st,qx)\n",
    "    #loss = np.sum((px-qx)**2)\n",
    "    return loss"
   ]
  },
  {
   "cell_type": "code",
   "execution_count": 15,
   "metadata": {},
   "outputs": [],
   "source": [
    "def f(x):\n",
    "    n_particles = x.shape[0]\n",
    "    j = [forward_prop(x[i]) for i in range(n_particles)]\n",
    "    return np.array(j)"
   ]
  },
  {
   "cell_type": "code",
   "execution_count": 22,
   "metadata": {
    "tags": []
   },
   "outputs": [
    {
     "output_type": "stream",
     "name": "stderr",
     "text": "2020-08-13 19:21:06,994 - pyswarms.single.global_best - INFO - Optimize for 100 iters with {'c1': 0.5, 'c2': 0.3, 'w': 0.9}\n\n\npyswarms.single.global_best:   0%|          |0/100\u001b[A\u001b[A\n\npyswarms.single.global_best:   0%|          |0/100, best_cost=1.89\u001b[A\u001b[A\n\npyswarms.single.global_best:   0%|          |0/100, best_cost=0.558\u001b[A\u001b[A\n\npyswarms.single.global_best:   2%|▏         |2/100, best_cost=0.558\u001b[A\u001b[A\n\npyswarms.single.global_best:   2%|▏         |2/100, best_cost=0.558\u001b[A\u001b[A\n\npyswarms.single.global_best:   2%|▏         |2/100, best_cost=0.558\u001b[A\u001b[A\n\npyswarms.single.global_best:   4%|▍         |4/100, best_cost=0.558\u001b[A\u001b[A\n\npyswarms.single.global_best:   4%|▍         |4/100, best_cost=0.558\u001b[A\u001b[A\n\npyswarms.single.global_best:   4%|▍         |4/100, best_cost=0.558\u001b[A\u001b[A\n\npyswarms.single.global_best:   6%|▌         |6/100, best_cost=0.558\u001b[A\u001b[A\n\npyswarms.single.global_best:   6%|▌         |6/100, best_cost=0.558\u001b[A\u001b[A\n\npyswarms.single.global_best:   6%|▌         |6/100, best_cost=0.558\u001b[A\u001b[A\n\npyswarms.single.global_best:   8%|▊         |8/100, best_cost=0.558\u001b[A\u001b[A\n\npyswarms.single.global_best:   8%|▊         |8/100, best_cost=0.558\u001b[A\u001b[A\n\npyswarms.single.global_best:   8%|▊         |8/100, best_cost=0.358\u001b[A\u001b[A\n\npyswarms.single.global_best:  10%|█         |10/100, best_cost=0.358\u001b[A\u001b[A\n\npyswarms.single.global_best:  10%|█         |10/100, best_cost=0.358\u001b[A\u001b[A\n\npyswarms.single.global_best:  10%|█         |10/100, best_cost=0.358\u001b[A\u001b[A\n\npyswarms.single.global_best:  12%|█▏        |12/100, best_cost=0.358\u001b[A\u001b[A\n\npyswarms.single.global_best:  12%|█▏        |12/100, best_cost=0.358\u001b[A\u001b[A\n\npyswarms.single.global_best:  12%|█▏        |12/100, best_cost=0.285\u001b[A\u001b[A\n\npyswarms.single.global_best:  14%|█▍        |14/100, best_cost=0.285\u001b[A\u001b[A\n\npyswarms.single.global_best:  14%|█▍        |14/100, best_cost=0.111\u001b[A\u001b[A\n\npyswarms.single.global_best:  14%|█▍        |14/100, best_cost=0.111\u001b[A\u001b[A\n\npyswarms.single.global_best:  16%|█▌        |16/100, best_cost=0.111\u001b[A\u001b[A\n\npyswarms.single.global_best:  16%|█▌        |16/100, best_cost=0.111\u001b[A\u001b[A\n\npyswarms.single.global_best:  16%|█▌        |16/100, best_cost=0.0938\u001b[A\u001b[A\n\npyswarms.single.global_best:  18%|█▊        |18/100, best_cost=0.0938\u001b[A\u001b[A\n\npyswarms.single.global_best:  18%|█▊        |18/100, best_cost=0.0938\u001b[A\u001b[A\n\npyswarms.single.global_best:  18%|█▊        |18/100, best_cost=0.0938\u001b[A\u001b[A\n\npyswarms.single.global_best:  20%|██        |20/100, best_cost=0.0938\u001b[A\u001b[A\n\npyswarms.single.global_best:  20%|██        |20/100, best_cost=0.0938\u001b[A\u001b[A\n\npyswarms.single.global_best:  20%|██        |20/100, best_cost=0.0938\u001b[A\u001b[A\n\npyswarms.single.global_best:  22%|██▏       |22/100, best_cost=0.0938\u001b[A\u001b[A\n\npyswarms.single.global_best:  22%|██▏       |22/100, best_cost=0.0938\u001b[A\u001b[A\n\npyswarms.single.global_best:  22%|██▏       |22/100, best_cost=0.0405\u001b[A\u001b[A\n\npyswarms.single.global_best:  24%|██▍       |24/100, best_cost=0.0405\u001b[A\u001b[A\n\npyswarms.single.global_best:  24%|██▍       |24/100, best_cost=0.0405\u001b[A\u001b[A\n\npyswarms.single.global_best:  24%|██▍       |24/100, best_cost=0.0405\u001b[A\u001b[A\n\npyswarms.single.global_best:  26%|██▌       |26/100, best_cost=0.0405\u001b[A\u001b[A\n\npyswarms.single.global_best:  26%|██▌       |26/100, best_cost=0.0405\u001b[A\u001b[A\n\npyswarms.single.global_best:  26%|██▌       |26/100, best_cost=0.0157\u001b[A\u001b[A\n\npyswarms.single.global_best:  28%|██▊       |28/100, best_cost=0.0157\u001b[A\u001b[A\n\npyswarms.single.global_best:  28%|██▊       |28/100, best_cost=0.0157\u001b[A\u001b[A\n\npyswarms.single.global_best:  28%|██▊       |28/100, best_cost=0.0157\u001b[A\u001b[A\n\npyswarms.single.global_best:  30%|███       |30/100, best_cost=0.0157\u001b[A\u001b[A\n\npyswarms.single.global_best:  30%|███       |30/100, best_cost=0.0157\u001b[A\u001b[A\n\npyswarms.single.global_best:  30%|███       |30/100, best_cost=0.0157\u001b[A\u001b[A\n\npyswarms.single.global_best:  32%|███▏      |32/100, best_cost=0.0157\u001b[A\u001b[A\n\npyswarms.single.global_best:  32%|███▏      |32/100, best_cost=0.0157\u001b[A\u001b[A\n\npyswarms.single.global_best:  32%|███▏      |32/100, best_cost=0.0157\u001b[A\u001b[A\n\npyswarms.single.global_best:  34%|███▍      |34/100, best_cost=0.0157\u001b[A\u001b[A\n\npyswarms.single.global_best:  34%|███▍      |34/100, best_cost=0.0114\u001b[A\u001b[A\n\npyswarms.single.global_best:  34%|███▍      |34/100, best_cost=0.0114\u001b[A\u001b[A\n\npyswarms.single.global_best:  36%|███▌      |36/100, best_cost=0.0114\u001b[A\u001b[A\n\npyswarms.single.global_best:  36%|███▌      |36/100, best_cost=0.00951\u001b[A\u001b[A\n\npyswarms.single.global_best:  36%|███▌      |36/100, best_cost=0.00689\u001b[A\u001b[A\n\npyswarms.single.global_best:  38%|███▊      |38/100, best_cost=0.00689\u001b[A\u001b[A\n\npyswarms.single.global_best:  38%|███▊      |38/100, best_cost=0.00689\u001b[A\u001b[A\n\npyswarms.single.global_best:  38%|███▊      |38/100, best_cost=0.00689\u001b[A\u001b[A\n\npyswarms.single.global_best:  40%|████      |40/100, best_cost=0.00689\u001b[A\u001b[A\n\npyswarms.single.global_best:  40%|████      |40/100, best_cost=0.00689\u001b[A\u001b[A\n\npyswarms.single.global_best:  40%|████      |40/100, best_cost=0.00689\u001b[A\u001b[A\n\npyswarms.single.global_best:  42%|████▏     |42/100, best_cost=0.00689\u001b[A\u001b[A\n\npyswarms.single.global_best:  42%|████▏     |42/100, best_cost=0.00627\u001b[A\u001b[A\n\npyswarms.single.global_best:  42%|████▏     |42/100, best_cost=0.00627\u001b[A\u001b[A\n\npyswarms.single.global_best:  44%|████▍     |44/100, best_cost=0.00627\u001b[A\u001b[A\n\npyswarms.single.global_best:  44%|████▍     |44/100, best_cost=0.00627\u001b[A\u001b[A\n\npyswarms.single.global_best:  44%|████▍     |44/100, best_cost=0.00524\u001b[A\u001b[A\n\npyswarms.single.global_best:  46%|████▌     |46/100, best_cost=0.00524\u001b[A\u001b[A\n\npyswarms.single.global_best:  46%|████▌     |46/100, best_cost=0.00182\u001b[A\u001b[A\n\npyswarms.single.global_best:  46%|████▌     |46/100, best_cost=0.00182\u001b[A\u001b[A\n\npyswarms.single.global_best:  48%|████▊     |48/100, best_cost=0.00182\u001b[A\u001b[A\n\npyswarms.single.global_best:  48%|████▊     |48/100, best_cost=0.00182\u001b[A\u001b[A\n\npyswarms.single.global_best:  48%|████▊     |48/100, best_cost=0.00182\u001b[A\u001b[A\n\npyswarms.single.global_best:  50%|█████     |50/100, best_cost=0.00182\u001b[A\u001b[A\n\npyswarms.single.global_best:  50%|█████     |50/100, best_cost=0.00182\u001b[A\u001b[A\n\npyswarms.single.global_best:  50%|█████     |50/100, best_cost=0.00182\u001b[A\u001b[A\n\npyswarms.single.global_best:  52%|█████▏    |52/100, best_cost=0.00182\u001b[A\u001b[A\n\npyswarms.single.global_best:  52%|█████▏    |52/100, best_cost=0.00182\u001b[A\u001b[A\n\npyswarms.single.global_best:  52%|█████▏    |52/100, best_cost=0.00182\u001b[A\u001b[A\n\npyswarms.single.global_best:  54%|█████▍    |54/100, best_cost=0.00182\u001b[A\u001b[A\n\npyswarms.single.global_best:  54%|█████▍    |54/100, best_cost=0.00182\u001b[A\u001b[A\n\npyswarms.single.global_best:  54%|█████▍    |54/100, best_cost=0.00136\u001b[A\u001b[A\n\npyswarms.single.global_best:  56%|█████▌    |56/100, best_cost=0.00136\u001b[A\u001b[A\n\npyswarms.single.global_best:  56%|█████▌    |56/100, best_cost=0.00136\u001b[A\u001b[A\n\npyswarms.single.global_best:  56%|█████▌    |56/100, best_cost=0.00136\u001b[A\u001b[A\n\npyswarms.single.global_best:  58%|█████▊    |58/100, best_cost=0.00136\u001b[A\u001b[A\n\npyswarms.single.global_best:  58%|█████▊    |58/100, best_cost=0.00134\u001b[A\u001b[A\n\npyswarms.single.global_best:  58%|█████▊    |58/100, best_cost=0.000942\u001b[A\u001b[A\n\npyswarms.single.global_best:  60%|██████    |60/100, best_cost=0.000942\u001b[A\u001b[A\n\npyswarms.single.global_best:  60%|██████    |60/100, best_cost=0.000428\u001b[A\u001b[A\n\npyswarms.single.global_best:  60%|██████    |60/100, best_cost=0.000428\u001b[A\u001b[A\n\npyswarms.single.global_best:  62%|██████▏   |62/100, best_cost=0.000428\u001b[A\u001b[A\n\npyswarms.single.global_best:  62%|██████▏   |62/100, best_cost=0.000428\u001b[A\u001b[A\n\npyswarms.single.global_best:  62%|██████▏   |62/100, best_cost=0.000263\u001b[A\u001b[A\n\npyswarms.single.global_best:  64%|██████▍   |64/100, best_cost=0.000263\u001b[A\u001b[A\n\npyswarms.single.global_best:  64%|██████▍   |64/100, best_cost=0.000263\u001b[A\u001b[A\n\npyswarms.single.global_best:  64%|██████▍   |64/100, best_cost=0.000263\u001b[A\u001b[A\n\npyswarms.single.global_best:  66%|██████▌   |66/100, best_cost=0.000263\u001b[A\u001b[A\n\npyswarms.single.global_best:  66%|██████▌   |66/100, best_cost=0.000138\u001b[A\u001b[A\n\npyswarms.single.global_best:  66%|██████▌   |66/100, best_cost=0.000138\u001b[A\u001b[A\n\npyswarms.single.global_best:  68%|██████▊   |68/100, best_cost=0.000138\u001b[A\u001b[A\n\npyswarms.single.global_best:  68%|██████▊   |68/100, best_cost=0.000138\u001b[A\u001b[A\n\npyswarms.single.global_best:  68%|██████▊   |68/100, best_cost=0.000138\u001b[A\u001b[A\n\npyswarms.single.global_best:  70%|███████   |70/100, best_cost=0.000138\u001b[A\u001b[A\n\npyswarms.single.global_best:  70%|███████   |70/100, best_cost=0.000138\u001b[A\u001b[A\n\npyswarms.single.global_best:  70%|███████   |70/100, best_cost=0.000138\u001b[A\u001b[A\n\npyswarms.single.global_best:  72%|███████▏  |72/100, best_cost=0.000138\u001b[A\u001b[A\n\npyswarms.single.global_best:  72%|███████▏  |72/100, best_cost=0.000138\u001b[A\u001b[A\n\npyswarms.single.global_best:  72%|███████▏  |72/100, best_cost=0.000138\u001b[A\u001b[A\n\npyswarms.single.global_best:  74%|███████▍  |74/100, best_cost=0.000138\u001b[A\u001b[A\n\npyswarms.single.global_best:  74%|███████▍  |74/100, best_cost=0.000138\u001b[A\u001b[A\n\npyswarms.single.global_best:  74%|███████▍  |74/100, best_cost=0.000138\u001b[A\u001b[A\n\npyswarms.single.global_best:  76%|███████▌  |76/100, best_cost=0.000138\u001b[A\u001b[A\n\npyswarms.single.global_best:  76%|███████▌  |76/100, best_cost=0.000135\u001b[A\u001b[A\n\npyswarms.single.global_best:  76%|███████▌  |76/100, best_cost=9.99e-5\u001b[A\u001b[A\n\npyswarms.single.global_best:  78%|███████▊  |78/100, best_cost=9.99e-5\u001b[A\u001b[A\n\npyswarms.single.global_best:  78%|███████▊  |78/100, best_cost=9.99e-5\u001b[A\u001b[A\n\npyswarms.single.global_best:  78%|███████▊  |78/100, best_cost=6.81e-5\u001b[A\u001b[A\n\npyswarms.single.global_best:  80%|████████  |80/100, best_cost=6.81e-5\u001b[A\u001b[A\n\npyswarms.single.global_best:  80%|████████  |80/100, best_cost=6.81e-5\u001b[A\u001b[A\n\npyswarms.single.global_best:  80%|████████  |80/100, best_cost=6.81e-5\u001b[A\u001b[A\n\npyswarms.single.global_best:  82%|████████▏ |82/100, best_cost=6.81e-5\u001b[A\u001b[A\n\npyswarms.single.global_best:  82%|████████▏ |82/100, best_cost=5.61e-5\u001b[A\u001b[A\n\npyswarms.single.global_best:  82%|████████▏ |82/100, best_cost=4.18e-5\u001b[A\u001b[A\n\npyswarms.single.global_best:  84%|████████▍ |84/100, best_cost=4.18e-5\u001b[A\u001b[A\n\npyswarms.single.global_best:  84%|████████▍ |84/100, best_cost=3.92e-5\u001b[A\u001b[A\n\npyswarms.single.global_best:  84%|████████▍ |84/100, best_cost=3.06e-5\u001b[A\u001b[A\n\npyswarms.single.global_best:  86%|████████▌ |86/100, best_cost=3.06e-5\u001b[A\u001b[A\n\npyswarms.single.global_best:  86%|████████▌ |86/100, best_cost=3.06e-5\u001b[A\u001b[A\n\npyswarms.single.global_best:  86%|████████▌ |86/100, best_cost=9.27e-6\u001b[A\u001b[A\n\npyswarms.single.global_best:  88%|████████▊ |88/100, best_cost=9.27e-6\u001b[A\u001b[A\n\npyswarms.single.global_best:  88%|████████▊ |88/100, best_cost=9.27e-6\u001b[A\u001b[A\n\npyswarms.single.global_best:  88%|████████▊ |88/100, best_cost=9.27e-6\u001b[A\u001b[A\n\npyswarms.single.global_best:  90%|█████████ |90/100, best_cost=9.27e-6\u001b[A\u001b[A\n\npyswarms.single.global_best:  90%|█████████ |90/100, best_cost=9.27e-6\u001b[A\u001b[A\n\npyswarms.single.global_best:  90%|█████████ |90/100, best_cost=5.62e-7\u001b[A\u001b[A\n\npyswarms.single.global_best:  92%|█████████▏|92/100, best_cost=5.62e-7\u001b[A\u001b[A\n\npyswarms.single.global_best:  92%|█████████▏|92/100, best_cost=5.62e-7\u001b[A\u001b[A\n\npyswarms.single.global_best:  92%|█████████▏|92/100, best_cost=5.62e-7\u001b[A\u001b[A\n\npyswarms.single.global_best:  94%|█████████▍|94/100, best_cost=5.62e-7\u001b[A\u001b[A\n\npyswarms.single.global_best:  94%|█████████▍|94/100, best_cost=5.62e-7\u001b[A\u001b[A\n\npyswarms.single.global_best:  94%|█████████▍|94/100, best_cost=5.62e-7\u001b[A\u001b[A\n\npyswarms.single.global_best:  96%|█████████▌|96/100, best_cost=5.62e-7\u001b[A\u001b[A\n\npyswarms.single.global_best:  96%|█████████▌|96/100, best_cost=5.62e-7\u001b[A\u001b[A\n\npyswarms.single.global_best:  96%|█████████▌|96/100, best_cost=5.62e-7\u001b[A\u001b[A\n\npyswarms.single.global_best:  98%|█████████▊|98/100, best_cost=5.62e-7\u001b[A\u001b[A\n\npyswarms.single.global_best:  98%|█████████▊|98/100, best_cost=5.62e-7\u001b[A\u001b[A\n\npyswarms.single.global_best:  98%|█████████▊|98/100, best_cost=5.38e-7\u001b[A\u001b[A\n\npyswarms.single.global_best: 100%|██████████|100/100, best_cost=5.38e-7\n2020-08-13 19:21:12,828 - pyswarms.single.global_best - INFO - Optimization finished | best cost: 5.379593999027825e-07, best pos: [0.78573057 0.78525421 0.7854559  0.78540773 0.78587539 0.78544617]\n"
    }
   ],
   "source": [
    "options = {'c1': 0.5, 'c2': 0.3, 'w':0.9}\n",
    "\n",
    "# Call instance of GlobalBestPSO\n",
    "optimizer = ps.single.GlobalBestPSO(n_particles=50, dimensions=6,\n",
    "                                    options=options)\n",
    "\n",
    "# Perform optimization\n",
    "stats = optimizer.optimize(f, iters=100)"
   ]
  },
  {
   "cell_type": "code",
   "execution_count": 25,
   "metadata": {
    "tags": []
   },
   "outputs": [],
   "source": [
    "np.save('gen.npy',stats[1])"
   ]
  },
  {
   "cell_type": "code",
   "execution_count": null,
   "metadata": {},
   "outputs": [],
   "source": []
  }
 ]
}