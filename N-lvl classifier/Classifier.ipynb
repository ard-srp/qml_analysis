{
 "cells": [
  {
   "cell_type": "code",
   "execution_count": 8,
   "metadata": {
    "tags": []
   },
   "outputs": [
    {
     "output_type": "stream",
     "name": "stderr",
     "text": "2020-08-05 18:06:30,615 - qiskit.aqua.components.optimizers.nlopts.nloptimizer - INFO - NLopt is not installed. Please install it to use these global optimizers.\n"
    }
   ],
   "source": [
    "import numpy as np\n",
    "import pyswarms as ps\n",
    "import scipy as sc\n",
    "import random\n",
    "from timeit import default_timer as timer\n",
    "import pandas as pd"
   ]
  },
  {
   "cell_type": "code",
   "execution_count": 13,
   "metadata": {},
   "outputs": [],
   "source": [
    "a = np.identity(7, dtype='complex')\n",
    "import pandas as pd\n",
    "np.savetxt('fids.csv', a, delimiter=\",\")\n",
    "data = pd.DataFrame()."
   ]
  },
  {
   "cell_type": "code",
   "execution_count": 4,
   "metadata": {},
   "outputs": [],
   "source": [
    "data_train = pd.read_csv('mnist_train.csv')"
   ]
  },
  {
   "cell_type": "code",
   "execution_count": 14,
   "metadata": {},
   "outputs": [],
   "source": [
    "data_train_x = data_train.iloc[:,1:].values"
   ]
  },
  {
   "cell_type": "code",
   "execution_count": 15,
   "metadata": {},
   "outputs": [],
   "source": [
    "data_train_y = data_train.iloc[:,:1].values"
   ]
  },
  {
   "cell_type": "code",
   "execution_count": 16,
   "metadata": {},
   "outputs": [],
   "source": [
    "data_train_y_r = data_train_y.reshape(1,60000)"
   ]
  },
  {
   "cell_type": "code",
   "execution_count": 17,
   "metadata": {},
   "outputs": [],
   "source": [
    "data = []\n",
    "for i in range(10):\n",
    "    data.append(data_train_x[np.reshape(data_train_y == i, (60000,))])"
   ]
  },
  {
   "cell_type": "code",
   "execution_count": null,
   "metadata": {},
   "outputs": [],
   "source": [
    "S3 = np.array(np.diag([-4.5, -3.5, -2.5, -1.5, -0.5, 0.5, 1.5, 2.5, 3.5, 4.5]), dtype='complex')\n",
    "S3"
   ]
  },
  {
   "cell_type": "code",
   "execution_count": 5,
   "metadata": {},
   "outputs": [],
   "source": [
    "#@jit(target=\"cpu\")\n",
    "#SU(n) operation takes in \n",
    "def SUn(params, n):\n",
    "    params = np.append(params, 0)\n",
    "    params = np.mod(params, 2*np.pi)\n",
    "    params = np.array(params, dtype='complex')\n",
    "    params = params.reshape(n,n)\n",
    "    z = np.zeros(n**4, dtype='complex')\n",
    "    y = np.zeros(n**4, dtype='complex')\n",
    "    z = z.reshape(n,n,n,n)\n",
    "    y = y.reshape(n,n,n,n)\n",
    "    for i in range(n):\n",
    "        for j in range(n):\n",
    "            if(i==j):\n",
    "                zr = np.zeros(n**2)\n",
    "                zr = zr.reshape(n,n)\n",
    "                z[i][i] = zr\n",
    "                y[i][i] = zr\n",
    "            else:    \n",
    "                z[i][j][i][i] = 1\n",
    "                z[i][j][j][j] = -1\n",
    "                y[i][j][i][j] = -1j\n",
    "                y[i][j][j][i] = 1j\n",
    "    for i in range(n):\n",
    "        for j in range(i):\n",
    "            params[j][i] = params[j][i]/4\n",
    "            params[i][j] = params[i][j]/2\n",
    "    U = np.zeros(n**2, dtype='complex')\n",
    "    U = U.reshape(n,n)\n",
    "    d=n\n",
    "    for m in range(d-1):\n",
    "        for n1 in range(m+1, d):\n",
    "            #if(m==n1 or params[m][n1] == 0 or params[n1][m] == 0):\n",
    "            #    print('ghapla')\n",
    "            U += 1j*params[n1][m]*z[m][n1] + 1j*params[m][n1]*y[m][n1]\n",
    "    for l in range(d-1):\n",
    "        #if(params[l][l] == 0 or l == d-1):\n",
    "        #    print('ghapla')\n",
    "        U += 1j*params[l][l]*z[l][d-1]\n",
    "        #print(np.linalg.det(U))\n",
    "    U = sc.linalg.expm(U)\n",
    "    return U\n",
    "\n",
    "\n"
   ]
  },
  {
   "cell_type": "code",
   "execution_count": 19,
   "metadata": {},
   "outputs": [],
   "source": [
    "@jit(parallel = True)\n",
    "def prepare_density_matrices(params):\n",
    "    root5 = np.sqrt(1/5)\n",
    "    state_vec_init = [root5 for _ in range(5)]\n",
    "    state_vec_init = np.array(state_vec_init, dtype='complex')\n",
    "    S3 = np.array(np.diag([-2,-1,0,1,2]), dtype='complex')\n",
    "    matrices = np.zeros(shape = (5,5,5), dtype = 'complex')\n",
    "    \n",
    "    for digit in data[:5]:\n",
    "        rho_total = np.zeros(25, dtype='complex')\n",
    "        rho_total = rho_total.reshape(5,5)\n",
    "        counter = 0\n",
    "        i=0\n",
    "        for digit_data in digit[:2000]:\n",
    "            opr = S3 * np.dot(params, digit_data)\n",
    "            state_vec = np.dot(sc.linalg.expm(1j*opr), state_vec_init)\n",
    "            state_vec = state_vec.reshape(5,1)\n",
    "            state_vec_dag = state_vec.conj()\n",
    "            state_vec_dag = state_vec.reshape(1,5)\n",
    "            rho = np.dot(state_vec, state_vec_dag)\n",
    "            rho_total += rho\n",
    "            counter += 1\n",
    "        rho_total /= counter\n",
    "        matrices[i] = rho_total\n",
    "        i += 1\n",
    "    matrices = np.array(matrices, dtype='complex')\n",
    "    return matrices\n",
    "\n",
    "\n",
    "\n",
    "\n"
   ]
  },
  {
   "cell_type": "code",
   "execution_count": 21,
   "metadata": {
    "tags": []
   },
   "outputs": [
    {
     "output_type": "stream",
     "name": "stdout",
     "text": "8.500543199999811\n"
    }
   ],
   "source": [
    "st = timer()\n",
    "p = np.array([random.uniform(1,10) for _ in range(784)])\n",
    "prepare_density_matrices(p)\n",
    "en = timer()\n",
    "print(en-st)"
   ]
  },
  {
   "cell_type": "code",
   "execution_count": 6,
   "metadata": {
    "tags": []
   },
   "outputs": [
    {
     "output_type": "stream",
     "name": "stdout",
     "text": "0.07428239999990183\n"
    }
   ],
   "source": [
    "params = [random.uniform(0,2*np.pi) for _ in range(2499)]\n",
    "start = timer()\n",
    "U10 = SUn(params, 50)\n",
    "end = timer()\n",
    "print(end-start)"
   ]
  },
  {
   "cell_type": "code",
   "execution_count": 12,
   "metadata": {},
   "outputs": [
    {
     "output_type": "execute_result",
     "data": {
      "text/plain": "(1.000000000000011-8.715250743307578e-15j)"
     },
     "metadata": {},
     "execution_count": 12
    }
   ],
   "source": [
    "np.linalg.det(U10)\n"
   ]
  },
  {
   "cell_type": "code",
   "execution_count": 40,
   "metadata": {},
   "outputs": [],
   "source": [
    "@jit(target=\"cpu\", parallel=True)\n",
    "def forward_prop(params):\n",
    "    params_state_prep = params[:784]\n",
    "    params_SUn = params[784:]\n",
    "    matrices = prepare_density_matrices(params_state_prep)\n",
    "    SUn_opr = SUn(params_SUn, 5)\n",
    "    cost = 0\n",
    "    #print('done\\n')\n",
    "    for i in prange(5):\n",
    "        matrix = matrices[i]\n",
    "        SUn_opr_dag = SUn_opr.T\n",
    "        SUn_opr_dag = SUn_opr_dag.conj()\n",
    "        final_rho = np.matmul(SUn_opr, matrix)\n",
    "        final_rho = np.matmul(final_rho, SUn_opr_dag)\n",
    "        target_rho = np.zeros(25, dtype='complex')\n",
    "        target_rho = target_rho.reshape(5,5)\n",
    "        target_rho[i][i] = 1\n",
    "        T = final_rho - target_rho\n",
    "        cost += sc.linalg.norm(T)\n",
    "    #print(cost)\n",
    "\n",
    "    return cost\n",
    "\n",
    "\n"
   ]
  },
  {
   "cell_type": "code",
   "execution_count": 33,
   "metadata": {
    "tags": []
   },
   "outputs": [
    {
     "output_type": "stream",
     "name": "stderr",
     "text": "2020-07-31 22:35:46,237 - numba.transforms - INFO - finding looplift candidates\ndone\n\n5.0937718696029295\n8.861243299999842\n"
    }
   ],
   "source": [
    "st = timer()\n",
    "params = [random.uniform(0,2*np.pi) for _ in range(808)]\n",
    "forward_prop(np.array(params))\n",
    "en = timer()\n",
    "print(en-st)"
   ]
  },
  {
   "cell_type": "code",
   "execution_count": 38,
   "metadata": {
    "tags": []
   },
   "outputs": [
    {
     "output_type": "stream",
     "name": "stdout",
     "text": "<RootLogger root (INFO)>\n"
    }
   ],
   "source": [
    "def f(x):\n",
    "    n_particles = x.shape[0]\n",
    "    j = [forward_prop(x[i]) for i in range(n_particles)]\n",
    "    return np.array(j)"
   ]
  },
  {
   "cell_type": "code",
   "execution_count": 42,
   "metadata": {
    "tags": []
   },
   "outputs": [
    {
     "output_type": "stream",
     "name": "stderr",
     "text": "2020-07-31 22:42:56,032 - pyswarms.single.global_best - INFO - Optimize for 100 iters with {'c1': 0.5, 'c2': 0.3, 'w': 0.9}\n\n\npyswarms.single.global_best:   0%|          |0/100\u001b[A\u001b[A"
    }
   ],
   "source": [
    "options = {'c1': 0.5, 'c2': 0.3, 'w':0.9}\n",
    "\n",
    "# Call instance of GlobalBestPSO\n",
    "optimizer = ps.single.GlobalBestPSO(n_particles=20, dimensions=808,\n",
    "                                    options=options)\n",
    "\n",
    "# Perform optimization\n",
    "stats = optimizer.optimize(f, iters=100, n_processes=12)"
   ]
  }
 ],
 "metadata": {
  "kernelspec": {
   "display_name": "Python 3",
   "language": "python",
   "name": "python3"
  },
  "language_info": {
   "codemirror_mode": {
    "name": "ipython",
    "version": 3
   },
   "file_extension": ".py",
   "mimetype": "text/x-python",
   "name": "python",
   "nbconvert_exporter": "python",
   "pygments_lexer": "ipython3",
   "version": "3.7.6"
  }
 },
 "nbformat": 4,
 "nbformat_minor": 2
}